{
 "cells": [
  {
   "cell_type": "code",
   "execution_count": null,
   "id": "3c99d976",
   "metadata": {},
   "outputs": [],
   "source": [
    "import diags\n",
    "from filter_df import filter_df\n",
    "from make_da_plots import make_base_plots, make_wind_base_plots\n",
    "import numpy as np\n",
    "import pandas as pd\n",
    "import matplotlib.pylab as plt\n",
    "import matplotlib.colors as mcolors\n",
    "import cartopy.crs as ccrs\n",
    "import cartopy.feature as cfeature\n",
    "from netCDF4 import Dataset\n",
    "from datetime import datetime\n",
    "import os\n",
    "from diags import hofx"
   ]
  },
  {
   "cell_type": "code",
   "execution_count": null,
   "id": "e3adf080",
   "metadata": {},
   "outputs": [],
   "source": [
    "pd.set_option('display.max_columns', None)"
   ]
  },
  {
   "cell_type": "markdown",
   "id": "9ea2563f",
   "metadata": {},
   "source": [
    "Example JEDI file on Jet\n",
    "\n",
    "Reference time is the DA analysis time, it must be passed because it is not in the file name like GSI, maybe it is in the file somewhere but I didn't know where"
   ]
  },
  {
   "cell_type": "code",
   "execution_count": null,
   "id": "91b656db",
   "metadata": {},
   "outputs": [],
   "source": [
    "jedi_hofx_filename = \"/lfs5/BMC/wrfruc/gge/RDASApp/expr/hofx/hofx_adpsfc.nc\"\n",
    "\n",
    "reference_time = \"2023061012\""
   ]
  },
  {
   "cell_type": "markdown",
   "id": "7588d7ad",
   "metadata": {},
   "source": [
    "## Load JEDI data\n",
    "JEDI data can be filtered by qc flag as it is being read in, it can still be filtered afters like GSI. See https://github.com/JCSDA/ufo/blob/54b44b22291a90955c3eb5327ed24ea9e858d4f6/src/ufo/filters/QCflags.h for list of QC flags\n",
    "\n",
    "Simple change 'uv' to t, ps, or q to get other variable"
   ]
  },
  {
   "cell_type": "code",
   "execution_count": null,
   "id": "a4dee03c",
   "metadata": {},
   "outputs": [],
   "source": [
    "hofx_obj = hofx(jedi_hofx_filename, 'uv', ref_time=reference_time, flag=0)"
   ]
  },
  {
   "cell_type": "markdown",
   "id": "11c350e1",
   "metadata": {},
   "source": [
    "Retrieve df"
   ]
  },
  {
   "cell_type": "code",
   "execution_count": null,
   "id": "3f4112f6",
   "metadata": {},
   "outputs": [],
   "source": [
    "jedi_df = hofx_obj.df"
   ]
  },
  {
   "cell_type": "markdown",
   "id": "d7b47fa1",
   "metadata": {},
   "source": [
    "List all unique obs IDs and station IDs"
   ]
  },
  {
   "cell_type": "code",
   "execution_count": null,
   "id": "37e4fa10",
   "metadata": {},
   "outputs": [],
   "source": [
    "hofx_obj.obs_ids"
   ]
  },
  {
   "cell_type": "code",
   "execution_count": null,
   "id": "671f00d3",
   "metadata": {},
   "outputs": [],
   "source": [
    "hofx_obj.stn_ids"
   ]
  },
  {
   "cell_type": "markdown",
   "id": "d920dcbc",
   "metadata": {},
   "source": [
    "Print metadata"
   ]
  },
  {
   "cell_type": "code",
   "execution_count": null,
   "id": "850ba6be",
   "metadata": {},
   "outputs": [],
   "source": [
    "hofx_obj.metadata"
   ]
  },
  {
   "cell_type": "markdown",
   "id": "c7380332",
   "metadata": {},
   "source": [
    "## Make plots of all obs"
   ]
  },
  {
   "cell_type": "code",
   "execution_count": null,
   "id": "c49a6d91",
   "metadata": {},
   "outputs": [],
   "source": [
    "make_wind_base_plots([jedi_df], hofx_obj.metadata)"
   ]
  },
  {
   "cell_type": "markdown",
   "id": "d072d1db",
   "metadata": {},
   "source": [
    "# Filter df"
   ]
  },
  {
   "cell_type": "code",
   "execution_count": null,
   "id": "43158b8c",
   "metadata": {},
   "outputs": [],
   "source": [
    "# Lat and lon ranges for colorado\n",
    "co_lats = (37, 41)\n",
    "co_lons = (251, 258) #to convert from deg west to deg east (360 - deg west)"
   ]
  },
  {
   "cell_type": "code",
   "execution_count": null,
   "id": "0b05b517",
   "metadata": {},
   "outputs": [],
   "source": [
    "fil_df = filter_df([hofx.df], lat_range=co_lats, lon_range=co_lons)"
   ]
  },
  {
   "cell_type": "code",
   "execution_count": null,
   "id": "982fe30a",
   "metadata": {},
   "outputs": [],
   "source": [
    "fil_df = fil_df[0]"
   ]
  },
  {
   "cell_type": "code",
   "execution_count": null,
   "id": "d21e4c0b",
   "metadata": {},
   "outputs": [],
   "source": [
    "fil_df"
   ]
  },
  {
   "cell_type": "code",
   "execution_count": null,
   "id": "42973063",
   "metadata": {},
   "outputs": [],
   "source": [
    "make_base_plots([fil_df], hofx.metadata)"
   ]
  },
  {
   "cell_type": "markdown",
   "id": "eb84a92e",
   "metadata": {},
   "source": [
    "# Traverse JEDI Hofx file\n",
    "For understanding the structure and hierarchy of the JEDI NetCDF file"
   ]
  },
  {
   "cell_type": "code",
   "execution_count": null,
   "id": "55e36be9",
   "metadata": {},
   "outputs": [],
   "source": [
    "jedi_fp = '/lfs5/BMC/wrfruc/gge/RDASApp/expr/hofx/hofx_adpsfc.nc'"
   ]
  },
  {
   "cell_type": "code",
   "execution_count": null,
   "id": "bd844294",
   "metadata": {},
   "outputs": [],
   "source": [
    "f = Dataset(jedi_fp, mode='r')\n",
    "# for grp in f.groups:\n",
    "#      print(f'{grp}')"
   ]
  },
  {
   "cell_type": "code",
   "execution_count": null,
   "id": "05d24aea",
   "metadata": {},
   "outputs": [],
   "source": [
    "# print(f.dimensions)"
   ]
  },
  {
   "cell_type": "code",
   "execution_count": null,
   "id": "2fe456d0",
   "metadata": {},
   "outputs": [],
   "source": [
    "data_dict = {}\n",
    "\n",
    "for group in f.groups.values():\n",
    "    print(f'--- {group.name} ---\\n')\n",
    "    for grp in group.variables.values():\n",
    "        print(grp.name)\n",
    "#         print(type(grp[:]))\n",
    "        data = grp[:]\n",
    "        data_dict[f\"{group.name}_{grp.name}\"] = data\n",
    "    print(\"\\n\")\n",
    "\n",
    "df = pd.DataFrame(data_dict)"
   ]
  }
 ],
 "metadata": {
  "kernelspec": {
   "display_name": "Python 3 (ipykernel)",
   "language": "python",
   "name": "python3"
  },
  "language_info": {
   "codemirror_mode": {
    "name": "ipython",
    "version": 3
   },
   "file_extension": ".py",
   "mimetype": "text/x-python",
   "name": "python",
   "nbconvert_exporter": "python",
   "pygments_lexer": "ipython3",
   "version": "3.9.12"
  }
 },
 "nbformat": 4,
 "nbformat_minor": 5
}
