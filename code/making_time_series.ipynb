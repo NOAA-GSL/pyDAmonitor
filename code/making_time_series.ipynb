{
 "cells": [
  {
   "cell_type": "code",
   "execution_count": null,
   "id": "1dfab4a3",
   "metadata": {},
   "outputs": [],
   "source": [
    "import numpy as np\n",
    "import pandas as pd\n",
    "import importlib\n",
    "from plot_driver import da_base_plots\n",
    "import time_series as time_series\n",
    "from datetime import datetime, timedelta, timezone"
   ]
  },
  {
   "cell_type": "markdown",
   "id": "e1480c98",
   "metadata": {},
   "source": [
    "# Making time series plots"
   ]
  },
  {
   "cell_type": "markdown",
   "id": "7f974045",
   "metadata": {},
   "source": [
    "## Define arguments"
   ]
  },
  {
   "cell_type": "code",
   "execution_count": null,
   "id": "874154e4",
   "metadata": {},
   "outputs": [],
   "source": [
    "# File paths\n",
    "rtma_path = '/lfs4/BMC/nrtrr/NCO_dirs/rtma.v0.8.8/com/prod'\n",
    "rrfs_path = '/lfs4/BMC/nrtrr/NCO_dirs/v0.9.5/com/prod'"
   ]
  },
  {
   "cell_type": "code",
   "execution_count": null,
   "id": "7bb042b2",
   "metadata": {},
   "outputs": [],
   "source": [
    "# Get the current date and time in UTC\n",
    "now_utc = datetime.now(timezone.utc)\n",
    "f_time = now_utc.replace(minute=0, second=0, microsecond=0)\n",
    "s_time = f_time - timedelta(days=2)\n",
    "s_time = s_time.replace(hour=0)\n",
    "use=1\n",
    "\n",
    "date_times = pd.date_range(start=s_time, end=f_time, freq='H')"
   ]
  },
  {
   "cell_type": "code",
   "execution_count": null,
   "id": "1f1bf114",
   "metadata": {},
   "outputs": [],
   "source": [
    "# station_ids = ['G4CUISJA']\n",
    "station_ids = None\n",
    "\n",
    "variables = ['t', 'ps', 'q']\n",
    "\n",
    "co_lats = (37, 41)\n",
    "co_lons = (251, 258)\n",
    "obs_types_sur_temp = [181, 187, 188, 195]\n",
    "obs_types_air_temp = [126, 133]\n",
    "\n",
    "obs_types_arr = [obs_types_sur_temp, None, None]"
   ]
  },
  {
   "cell_type": "markdown",
   "id": "8c9ce4f3",
   "metadata": {},
   "source": [
    "## Make lots of time series!"
   ]
  },
  {
   "cell_type": "code",
   "execution_count": null,
   "id": "0255f5c7",
   "metadata": {},
   "outputs": [],
   "source": [
    "time_series.plot_time_series([rtma_path], models = ['rtma_conus'],\n",
    "                             var = 't', anl_ges='both', s_time=s_time, f_time=f_time, use=1,\n",
    "                             lat_range=co_lats, lon_range=co_lons, obs_types=obs_types_sur_temp)"
   ]
  },
  {
   "cell_type": "code",
   "execution_count": null,
   "id": "0445c68d",
   "metadata": {},
   "outputs": [],
   "source": [
    "time_series.plot_time_series([rrfs_path], models = ['rrfs'],\n",
    "                             var = 't', anl_ges='both', s_time=s_time, f_time=f_time, use=1,\n",
    "                             lat_range=co_lats, lon_range=co_lons, obs_types=obs_types_sur_temp)"
   ]
  },
  {
   "cell_type": "code",
   "execution_count": null,
   "id": "8cc0476f",
   "metadata": {},
   "outputs": [],
   "source": [
    "time_series.plot_time_series([rtma_path], models = ['rtma_conus'],\n",
    "                             var = 't', anl_ges='both', s_time=s_time, f_time=f_time, use=1,\n",
    "                             lat_range=co_lats, lon_range=co_lons, obs_types=obs_types_air_temp)"
   ]
  },
  {
   "cell_type": "code",
   "execution_count": null,
   "id": "9ff4b3e1",
   "metadata": {},
   "outputs": [],
   "source": [
    "time_series.plot_time_series([rrfs_path], models = ['rrfs'],\n",
    "                             var = 't', anl_ges='both', s_time=s_time, f_time=f_time, use=1,\n",
    "                             lat_range=co_lats, lon_range=co_lons, obs_types=obs_types_air_temp)"
   ]
  },
  {
   "cell_type": "code",
   "execution_count": null,
   "id": "214bccfe",
   "metadata": {},
   "outputs": [],
   "source": [
    "for var in variables:\n",
    "    time_series.plot_time_series([rtma_path, rrfs_path], models = ['rtma_conus', 'rrfs'],\n",
    "                                 var = var, anl_ges='anl', s_time=s_time, f_time=f_time, use=1,\n",
    "                                 lat_range=co_lats, lon_range=co_lons)"
   ]
  }
 ],
 "metadata": {
  "kernelspec": {
   "display_name": "Python 3 (ipykernel)",
   "language": "python",
   "name": "python3"
  },
  "language_info": {
   "codemirror_mode": {
    "name": "ipython",
    "version": 3
   },
   "file_extension": ".py",
   "mimetype": "text/x-python",
   "name": "python",
   "nbconvert_exporter": "python",
   "pygments_lexer": "ipython3",
   "version": "3.9.12"
  }
 },
 "nbformat": 4,
 "nbformat_minor": 5
}
