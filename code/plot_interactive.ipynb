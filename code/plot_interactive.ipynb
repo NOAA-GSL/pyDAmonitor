{
 "cells": [
  {
   "cell_type": "code",
   "execution_count": null,
   "id": "7e26c55a",
   "metadata": {},
   "outputs": [],
   "source": [
    "from diags import Conventional\n",
    "import numpy as np\n",
    "import pandas as pd\n",
    "from filter_df import filter_df\n",
    "from make_da_plots import make_base_plots, make_wind_base_plots\n",
    "import importlib\n",
    "from plot_driver import da_base_plots\n",
    "import time_series as time_series\n",
    "from datetime import datetime, timedelta, timezone\n",
    "import matplotlib.pyplot as plt\n",
    "import xarray as xr"
   ]
  },
  {
   "cell_type": "code",
   "execution_count": null,
   "id": "99edd438",
   "metadata": {},
   "outputs": [],
   "source": [
    "pd.set_option('display.max_columns', None) # so I can see all columns on the df"
   ]
  },
  {
   "cell_type": "markdown",
   "id": "a0ed4712",
   "metadata": {},
   "source": [
    "# Interactive Plot Making"
   ]
  },
  {
   "cell_type": "markdown",
   "id": "cd13a339",
   "metadata": {},
   "source": [
    "### Get date\n",
    "\n",
    "Use current date and time (most recent hour) or put in your own custom time, note that these directories only have diagnostic files from today and the previous 2 days"
   ]
  },
  {
   "cell_type": "code",
   "execution_count": null,
   "id": "289b0df3",
   "metadata": {},
   "outputs": [],
   "source": [
    "variable = 't'\n",
    "# Current time (most recent hour)\n",
    "# now_utc = datetime.now(timezone.utc)\n",
    "# ex_time = now_utc.replace(hour=0, minute=0, second=0, microsecond=0)\n",
    "# date_str = ex_time.strftime('%Y%m%d%H')\n",
    "\n",
    "# Custom time\n",
    "date_str = '2024080814' "
   ]
  },
  {
   "cell_type": "code",
   "execution_count": null,
   "id": "6018c017",
   "metadata": {},
   "outputs": [],
   "source": [
    "day_str = date_str[:8]\n",
    "hour_str = date_str[-2:]"
   ]
  },
  {
   "cell_type": "markdown",
   "id": "c29bceb4",
   "metadata": {},
   "source": [
    "### RTMA GSI diag file paths"
   ]
  },
  {
   "cell_type": "code",
   "execution_count": null,
   "id": "8deb5e38",
   "metadata": {},
   "outputs": [],
   "source": [
    "#diag files on jet\n",
    "rtma_diag_ges_fp = f'/lfs4/BMC/nrtrr/NCO_dirs/rtma.v0.8.8/com/prod/RTMA_CONUS.{day_str}/{hour_str}/diag_conv_{variable}_ges.{date_str}.nc4.gz'\n",
    "rtma_diag_anl_fp = f'/lfs4/BMC/nrtrr/NCO_dirs/rtma.v0.8.8/com/prod/RTMA_CONUS.{day_str}/{hour_str}/diag_conv_{variable}_anl.{date_str}.nc4.gz'"
   ]
  },
  {
   "cell_type": "markdown",
   "id": "be584024",
   "metadata": {},
   "source": [
    "### Query data\n",
    "Print the total number of obs before filtering"
   ]
  },
  {
   "cell_type": "code",
   "execution_count": null,
   "id": "b8f42192",
   "metadata": {},
   "outputs": [],
   "source": [
    "rtma_diag_ges = Conventional(rtma_diag_ges_fp)\n",
    "rtma_diag_anl = Conventional(rtma_diag_anl_fp)\n",
    "rtma_df_ges = rtma_diag_ges.get_data()\n",
    "rtma_df_anl = rtma_diag_anl.get_data()"
   ]
  },
  {
   "cell_type": "code",
   "execution_count": null,
   "id": "ee6c446b",
   "metadata": {},
   "outputs": [],
   "source": [
    "print(len(rtma_df_ges))"
   ]
  },
  {
   "cell_type": "code",
   "execution_count": null,
   "id": "a17adffa",
   "metadata": {},
   "outputs": [],
   "source": [
    "print(len(rtma_df_anl))"
   ]
  },
  {
   "cell_type": "markdown",
   "id": "4ed7b1c0",
   "metadata": {},
   "source": [
    "## Filtering dataframes"
   ]
  },
  {
   "cell_type": "markdown",
   "id": "da1e5205",
   "metadata": {},
   "source": [
    "### Set filter arguments\n",
    "Here are various example filters that can be passed to filter_df, feel free to try adding or removing any"
   ]
  },
  {
   "cell_type": "code",
   "execution_count": null,
   "id": "73d299fa",
   "metadata": {},
   "outputs": [],
   "source": [
    "station_ids = ['NLOYR3BA']\n",
    "obs_types_sur_temp = [181, 187, 188, 195]\n",
    "obs_types_air_temp = [126, 133]\n",
    "use = 1\n",
    "elv_range = (0,20)\n",
    "p_range = (500,1000)\n",
    "err_range = (0, 4)\n",
    "\n",
    "# Lat and lon ranges for colorado\n",
    "co_lats = (37, 41)\n",
    "co_lons = (251, 258) #to convert from deg west to deg east (360 - deg west)"
   ]
  },
  {
   "cell_type": "markdown",
   "id": "da73e7cb",
   "metadata": {},
   "source": [
    "### Filter df\n",
    "Filter the df and see how many obs you end up with, sometimes there are slight difference in number of obs between anl and ges dfs"
   ]
  },
  {
   "cell_type": "code",
   "execution_count": null,
   "id": "7f4b88d5",
   "metadata": {},
   "outputs": [],
   "source": [
    "# temp examples\n",
    "# rtma_fil_dfs = filter_df([rtma_df_anl, rtma_df_ges], hem='CONUS', obs_types=obs_types_air_temp, use=1)\n",
    "rtma_fil_dfs = filter_df([rtma_df_anl, rtma_df_ges], obs_types=obs_types_sur_temp, use=1,\n",
    "                    lat_range=co_lats,lon_range=co_lons)\n",
    "    \n",
    "rtma_df_anl_fil = rtma_fil_dfs[0]\n",
    "rtma_df_ges_fil = rtma_fil_dfs[1]\n",
    "print(len(rtma_df_anl_fil))\n",
    "print(len(rtma_df_ges_fil))"
   ]
  },
  {
   "cell_type": "markdown",
   "id": "3e110f0e",
   "metadata": {},
   "source": [
    "## Making base plots\n",
    "Now run make_base_plots to create your plots, uncomment the top cell to save the plots as files. The returned object shared_norm is the normalization used for the scales of oma/omf maps, you can pass this to another call to make_base_plots if you want the same scale to be use for comparison purposes"
   ]
  },
  {
   "cell_type": "code",
   "execution_count": null,
   "id": "ebc34f8b",
   "metadata": {},
   "outputs": [],
   "source": [
    "# make_base_plots([rtma_df_ges_fil, rtma_df_anl_fil], diag_ges.metadata, zoom=False, save_plots=True)"
   ]
  },
  {
   "cell_type": "code",
   "execution_count": null,
   "id": "6d45d004",
   "metadata": {},
   "outputs": [],
   "source": [
    "to_share_norm = make_base_plots([rtma_df_ges_fil, rtma_df_anl_fil], rtma_diag_ges.metadata, zoom=False)"
   ]
  },
  {
   "cell_type": "markdown",
   "id": "87518796",
   "metadata": {},
   "source": [
    "# RRFS Diag Files\n",
    "Now lets do the same process but with RRFS diag files"
   ]
  },
  {
   "cell_type": "code",
   "execution_count": null,
   "id": "7b76f3dc",
   "metadata": {},
   "outputs": [],
   "source": [
    "#temperature diag files jet\n",
    "rrfs_diag_ges_fp = f'/lfs4/BMC/nrtrr/NCO_dirs/v0.9.5/com/prod/rrfs.{day_str}/{hour_str}/diag_conv_{variable}_ges.{date_str}.nc4.gz'\n",
    "rrfs_diag_anl_fp = f'/lfs4/BMC/nrtrr/NCO_dirs/v0.9.5/com/prod/rrfs.{day_str}/{hour_str}/diag_conv_{variable}_anl.{date_str}.nc4.gz'"
   ]
  },
  {
   "cell_type": "markdown",
   "id": "ac338123",
   "metadata": {},
   "source": [
    "## Query data\n",
    "Print the total number of obs before filtering"
   ]
  },
  {
   "cell_type": "code",
   "execution_count": null,
   "id": "fbb10dda",
   "metadata": {},
   "outputs": [],
   "source": [
    "rrfs_diag_ges = Conventional(rrfs_diag_ges_fp)\n",
    "rrfs_diag_anl = Conventional(rrfs_diag_anl_fp)\n",
    "rrfs_df_ges = rrfs_diag_ges.get_data()\n",
    "rrfs_df_anl = rrfs_diag_anl.get_data()"
   ]
  },
  {
   "cell_type": "code",
   "execution_count": null,
   "id": "7f1bbe0d",
   "metadata": {},
   "outputs": [],
   "source": [
    "print(len(rrfs_df_ges))"
   ]
  },
  {
   "cell_type": "code",
   "execution_count": null,
   "id": "431b06a0",
   "metadata": {},
   "outputs": [],
   "source": [
    "print(len(rrfs_df_anl))"
   ]
  },
  {
   "cell_type": "markdown",
   "id": "539f96dd",
   "metadata": {},
   "source": [
    "## Filtering dataframes"
   ]
  },
  {
   "cell_type": "markdown",
   "id": "a67488da",
   "metadata": {},
   "source": [
    "### Filter df"
   ]
  },
  {
   "cell_type": "code",
   "execution_count": null,
   "id": "a2380fbe",
   "metadata": {},
   "outputs": [],
   "source": [
    "# temp examples\n",
    "# rrfs_fil_dfs = filter_df([rrfs_df_anl, rrfs_df_ges], use =1)\n",
    "rrfs_fil_dfs = filter_df([rrfs_df_anl, rrfs_df_ges], obs_types=obs_types_sur_temp, use=1,\n",
    "                    lat_range=co_lats,lon_range=co_lons)\n",
    "\n",
    "rrfs_df_anl_fil = rrfs_fil_dfs[0]\n",
    "rrfs_df_ges_fil = rrfs_fil_dfs[1]\n",
    "print(len(rrfs_df_anl_fil))\n",
    "print(len(rrfs_df_ges_fil))"
   ]
  },
  {
   "cell_type": "markdown",
   "id": "bfbf8d65",
   "metadata": {},
   "source": [
    "### Make plots\n",
    "Here we pass the to_share_norm that was returned by the make_base_plots we called for RTMA, this will cause the plots created for RRFS to have the same scale for the oma and omf plots"
   ]
  },
  {
   "cell_type": "code",
   "execution_count": null,
   "id": "d3dde7a9",
   "metadata": {},
   "outputs": [],
   "source": [
    "# make_base_plots([rrfs_df_ges_fil, rrfs_df_anl_fil], diag_ges.metadata, shared_norm = to_share_norm, save_plots=True, zoom=True)"
   ]
  },
  {
   "cell_type": "code",
   "execution_count": null,
   "id": "b31db20b",
   "metadata": {},
   "outputs": [],
   "source": [
    "make_base_plots([rrfs_df_ges_fil, rrfs_df_anl_fil], rrfs_diag_ges.metadata, shared_norm = to_share_norm, zoom=False)"
   ]
  },
  {
   "cell_type": "markdown",
   "id": "0ca69d1d",
   "metadata": {},
   "source": [
    "## Wind plots\n",
    "Wind plots require a slightly different process due to the different format with u and v components, here is an example making base plots for RTMA wind diagnostic data"
   ]
  },
  {
   "cell_type": "code",
   "execution_count": null,
   "id": "45dc6607",
   "metadata": {},
   "outputs": [],
   "source": [
    "#wind diag files on jet\n",
    "diag_uv_ges_fp = f'/lfs4/BMC/nrtrr/NCO_dirs/rtma.v0.8.8/com/prod/RTMA_CONUS.{day_str}/{hour_str}/diag_conv_uv_ges.{date_str}.nc4.gz'\n",
    "diag_uv_anl_fp = f'/lfs4/BMC/nrtrr/NCO_dirs/rtma.v0.8.8/com/prod/RTMA_CONUS.{day_str}/{hour_str}/diag_conv_uv_anl.{date_str}.nc4.gz'"
   ]
  },
  {
   "cell_type": "code",
   "execution_count": null,
   "id": "b7903602",
   "metadata": {},
   "outputs": [],
   "source": [
    "#Wind Diag file\n",
    "diag_uv_ges = Conventional(diag_uv_ges_fp)\n",
    "diag_uv_anl = Conventional(diag_uv_anl_fp)\n",
    "df_uv_ges = diag_uv_ges.get_data()\n",
    "df_uv_anl = diag_uv_anl.get_data()"
   ]
  },
  {
   "cell_type": "code",
   "execution_count": null,
   "id": "dbddf6d0",
   "metadata": {},
   "outputs": [],
   "source": [
    "df_uv_anl"
   ]
  },
  {
   "cell_type": "code",
   "execution_count": null,
   "id": "38cedb10",
   "metadata": {},
   "outputs": [],
   "source": [
    "# wind examples\n",
    "# fil_uv_dfs = filter_df([df_uv_anl, df_uv_ges], obs_types= [287], hem='CONUS', use=1)\n",
    "fil_uv_dfs = filter_df([df_uv_anl, df_uv_ges], obs_types= [287], lat_range=co_lats, lon_range=co_lons)\n",
    "\n",
    "df_uv_anl_fil = fil_uv_dfs[0]\n",
    "df_uv_ges_fil = fil_uv_dfs[1]\n",
    "print(len(df_uv_anl_fil))\n",
    "print(len(df_uv_ges_fil))"
   ]
  },
  {
   "cell_type": "code",
   "execution_count": null,
   "id": "918acb9d",
   "metadata": {},
   "outputs": [],
   "source": [
    "# make_wind_base_plots([df_uv_anl_fil, df_uv_ges_fil], diag_uv_ges.metadata, save_plots=True)"
   ]
  },
  {
   "cell_type": "code",
   "execution_count": null,
   "id": "ed3bca48",
   "metadata": {},
   "outputs": [],
   "source": [
    "make_wind_base_plots([df_uv_ges_fil, df_uv_anl_fil], diag_uv_ges.metadata)"
   ]
  },
  {
   "cell_type": "markdown",
   "id": "f192bd56",
   "metadata": {},
   "source": [
    "# JEDI hofx files\n",
    "This same workflow can be done for JEDI hofx file with some more small changes, for example the JEDI diagnostics are all in one file instead of two like GSI. So you only have to read, filter, and pass one df. There are also some small syntactic differences, please see the notebook titled jedi_diag_explore for an example reading, filtering and making plots using JEDI files"
   ]
  }
 ],
 "metadata": {
  "kernelspec": {
   "display_name": "Python 3 (ipykernel)",
   "language": "python",
   "name": "python3"
  },
  "language_info": {
   "codemirror_mode": {
    "name": "ipython",
    "version": 3
   },
   "file_extension": ".py",
   "mimetype": "text/x-python",
   "name": "python",
   "nbconvert_exporter": "python",
   "pygments_lexer": "ipython3",
   "version": "3.9.12"
  }
 },
 "nbformat": 4,
 "nbformat_minor": 5
}
