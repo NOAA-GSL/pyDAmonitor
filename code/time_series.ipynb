{
 "cells": [
  {
   "cell_type": "code",
   "execution_count": 1,
   "id": "60a312d3",
   "metadata": {},
   "outputs": [
    {
     "name": "stderr",
     "output_type": "stream",
     "text": [
      "/lfs5/BMC/wrfruc/gge/miniconda3/4.6.14/envs/eva/lib/python3.9/site-packages/scipy/__init__.py:146: UserWarning: A NumPy version >=1.16.5 and <1.23.0 is required for this version of SciPy (detected version 1.23.1\n",
      "  warnings.warn(f\"A NumPy version >={np_minversion} and <{np_maxversion}\"\n"
     ]
    }
   ],
   "source": [
    "from diags import Conventional\n",
    "import numpy as np\n",
    "import pandas as pd\n",
    "from filter_df import filter_df\n",
    "from da_plots import base_plots, wind_base_plots\n",
    "from datetime import datetime, timedelta"
   ]
  },
  {
   "cell_type": "markdown",
   "id": "e7f6b90e",
   "metadata": {},
   "source": [
    "# Exploring time series plots"
   ]
  },
  {
   "cell_type": "code",
   "execution_count": 2,
   "id": "17c9aea4",
   "metadata": {},
   "outputs": [],
   "source": [
    "# Get the yesterdays date\n",
    "today = datetime.today()\n",
    "yesteryesterday = today - timedelta(days=2)\n",
    "\n",
    "# Format date\n",
    "date_str = yesteryesterday.strftime('%Y%m%d')"
   ]
  },
  {
   "cell_type": "code",
   "execution_count": 3,
   "id": "172bef1b",
   "metadata": {},
   "outputs": [],
   "source": [
    "rrfs_data_fp = \"/lfs4/BMC/nrtrr/NCO_dirs/v0.8.8/com/prod/\"\n",
    "rtma_data_fp = \"/lfs4/BMC/nrtrr/NCO_dirs/rtma.v0.8.8/com/prod/RTMA_CONUS.\" + date_str"
   ]
  },
  {
   "cell_type": "code",
   "execution_count": 12,
   "id": "ed2540fd",
   "metadata": {},
   "outputs": [],
   "source": [
    "# Get a list of strings with all hours of day\n",
    "hours = [f\"{i:02d}\" for i in range(20)]\n",
    "var = 't'"
   ]
  },
  {
   "cell_type": "code",
   "execution_count": 13,
   "id": "94b9089e",
   "metadata": {},
   "outputs": [],
   "source": [
    "# test_fp = \"/lfs4/BMC/nrtrr/NCO_dirs/rtma.v0.8.8/com/prod/RTMA_CONUS.20240624/00/diag_conv_t_anl.2024062400.nc4.gz\""
   ]
  },
  {
   "cell_type": "code",
   "execution_count": 14,
   "id": "1f79b0d2",
   "metadata": {},
   "outputs": [],
   "source": [
    "hourly_oma = np.empty(24)\n",
    "for i, hour in enumerate(hours):\n",
    "    diag_anl_file = f'diag_conv_{var}_anl.{date_str}{hour}.nc4.gz'\n",
    "    fp = f'{rtma_data_fp}/{hour}/{diag_anl_file}'\n",
    "    oma_values = Conventional(fp).get_data()['omf_adjusted']\n",
    "    oma_avg = oma_values.mean()\n",
    "    hourly_oma[i] = oma_avg"
   ]
  },
  {
   "cell_type": "code",
   "execution_count": 16,
   "id": "c800e69a",
   "metadata": {},
   "outputs": [
    {
     "data": {
      "text/plain": [
       "array([-6.85330778e-002, -3.87005955e-002, -3.54627892e-002,\n",
       "       -1.97138041e-002,  2.72493483e-003, -1.07432147e-002,\n",
       "        2.44988641e-003, -3.46046984e-002, -3.45370569e-003,\n",
       "        1.84821263e-002,  3.72124128e-002,  3.19536589e-002,\n",
       "        1.82927512e-002, -8.99573341e-002, -1.06382608e-001,\n",
       "       -1.01157494e-001, -7.26073235e-002, -6.07006848e-002,\n",
       "       -6.86884299e-002, -4.33343276e-002,  6.92352658e-310,\n",
       "        6.92352658e-310,  6.92352658e-310,  6.92352658e-310])"
      ]
     },
     "execution_count": 16,
     "metadata": {},
     "output_type": "execute_result"
    }
   ],
   "source": [
    "hourly_oma"
   ]
  }
 ],
 "metadata": {
  "kernelspec": {
   "display_name": "Python 3 (ipykernel)",
   "language": "python",
   "name": "python3"
  },
  "language_info": {
   "codemirror_mode": {
    "name": "ipython",
    "version": 3
   },
   "file_extension": ".py",
   "mimetype": "text/x-python",
   "name": "python",
   "nbconvert_exporter": "python",
   "pygments_lexer": "ipython3",
   "version": "3.9.12"
  }
 },
 "nbformat": 4,
 "nbformat_minor": 5
}
