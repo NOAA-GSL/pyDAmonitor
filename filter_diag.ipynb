{
 "cells": [
  {
   "cell_type": "code",
   "execution_count": 3,
   "metadata": {},
   "outputs": [],
   "source": [
    "from pyGSI.diags import Conventional\n",
    "import numpy as np\n",
    "import pandas as pd"
   ]
  },
  {
   "cell_type": "code",
   "execution_count": null,
   "metadata": {},
   "outputs": [],
   "source": [
    "pd.set_option('display.max_columns', None) # so I can see all columns on the df"
   ]
  },
  {
   "cell_type": "markdown",
   "metadata": {},
   "source": [
    "# Filter dataframe returned by PyGSI"
   ]
  },
  {
   "cell_type": "markdown",
   "metadata": {},
   "source": [
    "## Read diag files"
   ]
  },
  {
   "cell_type": "code",
   "execution_count": 10,
   "metadata": {},
   "outputs": [],
   "source": [
    "diag_ges_fp = './diag_conv_t_ges.2024031812.nc4'\n",
    "diag_anl_fp = './diag_conv_t_anl.2024031812.nc4'\n",
    "\n",
    "diag_ges = Conventional(diag_ges_fp)\n",
    "diag_anl = Conventional(diag_anl_fp)"
   ]
  },
  {
   "cell_type": "markdown",
   "metadata": {},
   "source": [
    "## Query data and preprocess dataframes"
   ]
  },
  {
   "cell_type": "markdown",
   "metadata": {},
   "source": [
    "This includes removing the indexing that PyGSI defaults to and changes non-assimilated obs to flag 0 instead of -1 for convenience"
   ]
  },
  {
   "cell_type": "code",
   "execution_count": 11,
   "metadata": {},
   "outputs": [],
   "source": [
    "data_ges = diag_ges.get_data().reset_index()\n",
    "data_anl = diag_anl.get_data().reset_index()\n",
    "\n",
    "data_ges.loc[data_ges['Analysis_Use_Flag'] == -1, 'Analysis_Use_Flag'] = 0\n",
    "data_anl.loc[data_anl['Analysis_Use_Flag'] == -1, 'Analysis_Use_Flag'] = 0"
   ]
  },
  {
   "cell_type": "code",
   "execution_count": null,
   "metadata": {},
   "outputs": [],
   "source": []
  }
 ],
 "metadata": {
  "kernelspec": {
   "display_name": "noaa24",
   "language": "python",
   "name": "python3"
  },
  "language_info": {
   "codemirror_mode": {
    "name": "ipython",
    "version": 3
   },
   "file_extension": ".py",
   "mimetype": "text/x-python",
   "name": "python",
   "nbconvert_exporter": "python",
   "pygments_lexer": "ipython3",
   "version": "3.12.3"
  }
 },
 "nbformat": 4,
 "nbformat_minor": 2
}
